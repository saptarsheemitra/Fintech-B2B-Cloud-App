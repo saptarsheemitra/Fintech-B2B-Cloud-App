{
 "cells": [
  {
   "cell_type": "code",
   "execution_count": 1,
   "id": "1cf3d10e",
   "metadata": {},
   "outputs": [
    {
     "name": "stdout",
     "output_type": "stream",
     "text": [
      "Defaulting to user installation because normal site-packages is not writeable\n",
      "Collecting gTTs\n",
      "  Using cached gTTS-2.3.2-py3-none-any.whl (28 kB)\n",
      "Requirement already satisfied: pygame in c:\\users\\kiit\\appdata\\roaming\\python\\python310\\site-packages (2.4.0)\n",
      "Requirement already satisfied: click<8.2,>=7.1 in c:\\programdata\\anaconda3\\lib\\site-packages (from gTTs) (8.0.4)\n",
      "Requirement already satisfied: requests<3,>=2.27 in c:\\programdata\\anaconda3\\lib\\site-packages (from gTTs) (2.28.1)\n",
      "Requirement already satisfied: colorama in c:\\programdata\\anaconda3\\lib\\site-packages (from click<8.2,>=7.1->gTTs) (0.4.6)\n",
      "Requirement already satisfied: idna<4,>=2.5 in c:\\programdata\\anaconda3\\lib\\site-packages (from requests<3,>=2.27->gTTs) (3.4)\n",
      "Requirement already satisfied: certifi>=2017.4.17 in c:\\programdata\\anaconda3\\lib\\site-packages (from requests<3,>=2.27->gTTs) (2022.12.7)\n",
      "Requirement already satisfied: charset-normalizer<3,>=2 in c:\\programdata\\anaconda3\\lib\\site-packages (from requests<3,>=2.27->gTTs) (2.0.4)\n",
      "Requirement already satisfied: urllib3<1.27,>=1.21.1 in c:\\programdata\\anaconda3\\lib\\site-packages (from requests<3,>=2.27->gTTs) (1.26.14)\n",
      "Installing collected packages: gTTs\n",
      "Successfully installed gTTs-2.3.2\n"
     ]
    },
    {
     "name": "stderr",
     "output_type": "stream",
     "text": [
      "  WARNING: The script gtts-cli.exe is installed in 'C:\\Users\\KIIT\\AppData\\Roaming\\Python\\Python310\\Scripts' which is not on PATH.\n",
      "  Consider adding this directory to PATH or, if you prefer to suppress this warning, use --no-warn-script-location.\n"
     ]
    }
   ],
   "source": [
    "!pip install gTTs pygame"
   ]
  },
  {
   "cell_type": "code",
   "execution_count": 3,
   "id": "b4390fec",
   "metadata": {},
   "outputs": [
    {
     "name": "stdout",
     "output_type": "stream",
     "text": [
      "Running your script...\n",
      "Execution completed.\n"
     ]
    }
   ],
   "source": [
    "from gtts import gTTS\n",
    "import pygame\n",
    "\n",
    "def say_text(text):\n",
    "    tts = gTTS(text=text, lang='en')\n",
    "    tts.save('output.mp3')\n",
    "\n",
    "    pygame.mixer.init()\n",
    "    pygame.mixer.music.load('output.mp3')\n",
    "    pygame.mixer.music.play()\n",
    "\n",
    "    while pygame.mixer.music.get_busy():\n",
    "        continue\n",
    "\n",
    "    pygame.mixer.quit()\n",
    "\n",
    "if __name__ == '__main__':\n",
    "    print(\"Running your script...\")\n",
    "    # Place your main script logic here\n",
    "\n",
    "    print(\"Execution completed.\")\n",
    "    say_text(\"Execution completed.\")"
   ]
  },
  {
   "cell_type": "code",
   "execution_count": 4,
   "id": "8f785c3f",
   "metadata": {},
   "outputs": [
    {
     "ename": "ModuleNotFoundError",
     "evalue": "No module named 'currency_converter'",
     "output_type": "error",
     "traceback": [
      "\u001b[1;31m---------------------------------------------------------------------------\u001b[0m",
      "\u001b[1;31mModuleNotFoundError\u001b[0m                       Traceback (most recent call last)",
      "Cell \u001b[1;32mIn[4], line 3\u001b[0m\n\u001b[0;32m      1\u001b[0m \u001b[39mfrom\u001b[39;00m \u001b[39mflask\u001b[39;00m \u001b[39mimport\u001b[39;00m Flask,jsonify, request\n\u001b[0;32m      2\u001b[0m \u001b[39mfrom\u001b[39;00m \u001b[39mflask_cors\u001b[39;00m \u001b[39mimport\u001b[39;00m CORS, cross_origin\n\u001b[1;32m----> 3\u001b[0m \u001b[39mimport\u001b[39;00m \u001b[39mSmartmodel\u001b[39;00m\n\u001b[0;32m      4\u001b[0m app \u001b[39m=\u001b[39m Flask(\u001b[39m__name__\u001b[39m)\n\u001b[0;32m      5\u001b[0m cors \u001b[39m=\u001b[39m CORS(app)\n",
      "File \u001b[1;32mc:\\Users\\KIIT\\Downloads\\Milestone 6 (1)\\Milestone 6\\H2H Flask\\Smartmodel.py:1\u001b[0m\n\u001b[1;32m----> 1\u001b[0m \u001b[39mfrom\u001b[39;00m \u001b[39mcurrency_converter\u001b[39;00m \u001b[39mimport\u001b[39;00m CurrencyConverter\n\u001b[0;32m      2\u001b[0m \u001b[39mimport\u001b[39;00m \u001b[39mpickle\u001b[39;00m \n\u001b[0;32m      3\u001b[0m \u001b[39mimport\u001b[39;00m \u001b[39mnumpy\u001b[39;00m \u001b[39mas\u001b[39;00m \u001b[39mnp\u001b[39;00m\n",
      "\u001b[1;31mModuleNotFoundError\u001b[0m: No module named 'currency_converter'"
     ]
    }
   ],
   "source": [
    "from flask import Flask,jsonify, request\n",
    "from flask_cors import CORS, cross_origin\n",
    "import Smartmodel\n",
    "app = Flask(__name__)\n",
    "cors = CORS(app)\n",
    "app.config['CORS_HEADERS'] = 'application/json'\n",
    "\n",
    "@app.route(\"/predict\", methods=[\"POST\"])\n",
    "@cross_origin(supports_credentials=True)\n",
    "def predictOap():\n",
    "    data = request.get_json()\n",
    "    print(data)\n",
    "    return jsonify(Smartmodel.predict(data).tolist())\n",
    "\n",
    "if __name__ == '__main__':\n",
    "    app.run(debug=True,use_reloader=False)"
   ]
  }
 ],
 "metadata": {
  "kernelspec": {
   "display_name": "Python 3 (ipykernel)",
   "language": "python",
   "name": "python3"
  },
  "language_info": {
   "codemirror_mode": {
    "name": "ipython",
    "version": 3
   },
   "file_extension": ".py",
   "mimetype": "text/x-python",
   "name": "python",
   "nbconvert_exporter": "python",
   "pygments_lexer": "ipython3",
   "version": "3.10.9"
  }
 },
 "nbformat": 4,
 "nbformat_minor": 5
}
